{
 "cells": [
  {
   "cell_type": "code",
   "execution_count": 2,
   "id": "14b8c46b",
   "metadata": {},
   "outputs": [],
   "source": [
    "import json"
   ]
  },
  {
   "cell_type": "code",
   "execution_count": 3,
   "id": "550bfe13",
   "metadata": {},
   "outputs": [],
   "source": [
    "directory_path = '../data/raw/repos_list.json'\n",
    "\n",
    "with open(directory_path, 'r') as file:\n",
    "    repos_list = json.load(file)"
   ]
  },
  {
   "cell_type": "markdown",
   "id": "55b55733",
   "metadata": {},
   "source": [
    "### Collecting Repo Names"
   ]
  },
  {
   "cell_type": "code",
   "execution_count": 4,
   "id": "ac443856",
   "metadata": {},
   "outputs": [],
   "source": [
    "repos_name = [page['name'] for page in repos_list]"
   ]
  },
  {
   "cell_type": "markdown",
   "id": "d6ec900f",
   "metadata": {},
   "source": [
    "### Collecting Repo Languagens\n"
   ]
  },
  {
   "cell_type": "code",
   "execution_count": 5,
   "id": "6a8a03d6",
   "metadata": {},
   "outputs": [],
   "source": [
    "repos_lang = [page['language'] for page in repos_list]"
   ]
  },
  {
   "cell_type": "markdown",
   "id": "b7eeaf76",
   "metadata": {},
   "source": [
    "### Creating a DataFrame"
   ]
  },
  {
   "cell_type": "code",
   "execution_count": 6,
   "id": "603c2bbb",
   "metadata": {},
   "outputs": [],
   "source": [
    "import pandas as pd"
   ]
  },
  {
   "cell_type": "code",
   "execution_count": 7,
   "id": "7f14d93a",
   "metadata": {},
   "outputs": [],
   "source": [
    "df = pd.DataFrame()\n",
    "df['repository_name'] = repos_name\n",
    "df['repository_language'] = repos_lang"
   ]
  },
  {
   "cell_type": "code",
   "execution_count": 12,
   "id": "7e92a563",
   "metadata": {},
   "outputs": [
    {
     "data": {
      "text/plain": [
       "RangeIndex(start=0, stop=162, step=1)"
      ]
     },
     "execution_count": 12,
     "metadata": {},
     "output_type": "execute_result"
    }
   ],
   "source": [
    "df.index"
   ]
  },
  {
   "cell_type": "markdown",
   "id": "905a3306",
   "metadata": {},
   "source": [
    "### Saving in CSV format"
   ]
  },
  {
   "cell_type": "code",
   "execution_count": 13,
   "id": "db7c73aa",
   "metadata": {},
   "outputs": [],
   "source": [
    "df.to_csv('../data/processed/repos_basic_info.csv', index=True, index_label='index')"
   ]
  }
 ],
 "metadata": {
  "kernelspec": {
   "display_name": "venv",
   "language": "python",
   "name": "python3"
  },
  "language_info": {
   "codemirror_mode": {
    "name": "ipython",
    "version": 3
   },
   "file_extension": ".py",
   "mimetype": "text/x-python",
   "name": "python",
   "nbconvert_exporter": "python",
   "pygments_lexer": "ipython3",
   "version": "3.10.12"
  }
 },
 "nbformat": 4,
 "nbformat_minor": 5
}
