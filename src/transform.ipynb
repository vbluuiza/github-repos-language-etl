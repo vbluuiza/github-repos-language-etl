{
 "cells": [
  {
   "cell_type": "code",
   "execution_count": 2,
   "id": "14b8c46b",
   "metadata": {},
   "outputs": [],
   "source": [
    "import json"
   ]
  },
  {
   "cell_type": "code",
   "execution_count": 3,
   "id": "550bfe13",
   "metadata": {},
   "outputs": [],
   "source": [
    "directory_path = '../data/raw/repos_list.json'\n",
    "\n",
    "with open(directory_path, 'r') as file:\n",
    "    repos_list = json.load(file)"
   ]
  },
  {
   "cell_type": "markdown",
   "id": "55b55733",
   "metadata": {},
   "source": [
    "### Collecting Repo Names"
   ]
  },
  {
   "cell_type": "code",
   "execution_count": 4,
   "id": "ac443856",
   "metadata": {},
   "outputs": [],
   "source": [
    "repos_name = [page['name'] for page in repos_list]"
   ]
  },
  {
   "cell_type": "markdown",
   "id": "d6ec900f",
   "metadata": {},
   "source": [
    "### Collecting Repo Languagens\n"
   ]
  },
  {
   "cell_type": "code",
   "execution_count": 5,
   "id": "6a8a03d6",
   "metadata": {},
   "outputs": [],
   "source": [
    "repos_lang = [page['language'] for page in repos_list]"
   ]
  },
  {
   "cell_type": "markdown",
   "id": "b7eeaf76",
   "metadata": {},
   "source": [
    "### Creating a DataFrame"
   ]
  },
  {
   "cell_type": "code",
   "execution_count": 6,
   "id": "603c2bbb",
   "metadata": {},
   "outputs": [],
   "source": [
    "import pandas as pd"
   ]
  },
  {
   "cell_type": "code",
   "execution_count": 7,
   "id": "7f14d93a",
   "metadata": {},
   "outputs": [],
   "source": [
    "df = pd.DataFrame()\n",
    "df['repository_name'] = repos_name\n",
    "df['repository_language'] = repos_lang"
   ]
  },
  {
   "cell_type": "code",
   "execution_count": 8,
   "id": "7e92a563",
   "metadata": {},
   "outputs": [
    {
     "data": {
      "text/html": [
       "<div>\n",
       "<style scoped>\n",
       "    .dataframe tbody tr th:only-of-type {\n",
       "        vertical-align: middle;\n",
       "    }\n",
       "\n",
       "    .dataframe tbody tr th {\n",
       "        vertical-align: top;\n",
       "    }\n",
       "\n",
       "    .dataframe thead th {\n",
       "        text-align: right;\n",
       "    }\n",
       "</style>\n",
       "<table border=\"1\" class=\"dataframe\">\n",
       "  <thead>\n",
       "    <tr style=\"text-align: right;\">\n",
       "      <th></th>\n",
       "      <th>repository_name</th>\n",
       "      <th>repository_language</th>\n",
       "    </tr>\n",
       "  </thead>\n",
       "  <tbody>\n",
       "    <tr>\n",
       "      <th>0</th>\n",
       "      <td>.github</td>\n",
       "      <td>None</td>\n",
       "    </tr>\n",
       "    <tr>\n",
       "      <th>1</th>\n",
       "      <td>ads-advanced-tools-docs</td>\n",
       "      <td>Jupyter Notebook</td>\n",
       "    </tr>\n",
       "    <tr>\n",
       "      <th>2</th>\n",
       "      <td>ads-pao-amznjs-gtm-server-side-template</td>\n",
       "      <td>Smarty</td>\n",
       "    </tr>\n",
       "    <tr>\n",
       "      <th>3</th>\n",
       "      <td>ads-pao-amznjs-gtm-template</td>\n",
       "      <td>Smarty</td>\n",
       "    </tr>\n",
       "    <tr>\n",
       "      <th>4</th>\n",
       "      <td>alexa-coho</td>\n",
       "      <td>JavaScript</td>\n",
       "    </tr>\n",
       "    <tr>\n",
       "      <th>...</th>\n",
       "      <td>...</td>\n",
       "      <td>...</td>\n",
       "    </tr>\n",
       "    <tr>\n",
       "      <th>157</th>\n",
       "      <td>zeek-plugin-enip</td>\n",
       "      <td>Zeek</td>\n",
       "    </tr>\n",
       "    <tr>\n",
       "      <th>158</th>\n",
       "      <td>zeek-plugin-profinet</td>\n",
       "      <td>Zeek</td>\n",
       "    </tr>\n",
       "    <tr>\n",
       "      <th>159</th>\n",
       "      <td>zeek-plugin-s7comm</td>\n",
       "      <td>Zeek</td>\n",
       "    </tr>\n",
       "    <tr>\n",
       "      <th>160</th>\n",
       "      <td>zeek-plugin-tds</td>\n",
       "      <td>Zeek</td>\n",
       "    </tr>\n",
       "    <tr>\n",
       "      <th>161</th>\n",
       "      <td>zero-shot-rlhr</td>\n",
       "      <td>Python</td>\n",
       "    </tr>\n",
       "  </tbody>\n",
       "</table>\n",
       "<p>162 rows × 2 columns</p>\n",
       "</div>"
      ],
      "text/plain": [
       "                             repository_name repository_language\n",
       "0                                    .github                None\n",
       "1                    ads-advanced-tools-docs    Jupyter Notebook\n",
       "2    ads-pao-amznjs-gtm-server-side-template              Smarty\n",
       "3                ads-pao-amznjs-gtm-template              Smarty\n",
       "4                                 alexa-coho          JavaScript\n",
       "..                                       ...                 ...\n",
       "157                         zeek-plugin-enip                Zeek\n",
       "158                     zeek-plugin-profinet                Zeek\n",
       "159                       zeek-plugin-s7comm                Zeek\n",
       "160                          zeek-plugin-tds                Zeek\n",
       "161                           zero-shot-rlhr              Python\n",
       "\n",
       "[162 rows x 2 columns]"
      ]
     },
     "execution_count": 8,
     "metadata": {},
     "output_type": "execute_result"
    }
   ],
   "source": [
    "df"
   ]
  }
 ],
 "metadata": {
  "kernelspec": {
   "display_name": "venv",
   "language": "python",
   "name": "python3"
  },
  "language_info": {
   "codemirror_mode": {
    "name": "ipython",
    "version": 3
   },
   "file_extension": ".py",
   "mimetype": "text/x-python",
   "name": "python",
   "nbconvert_exporter": "python",
   "pygments_lexer": "ipython3",
   "version": "3.10.12"
  }
 },
 "nbformat": 4,
 "nbformat_minor": 5
}
