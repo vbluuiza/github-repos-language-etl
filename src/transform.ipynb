{
 "cells": [
  {
   "cell_type": "code",
   "execution_count": 2,
   "id": "14b8c46b",
   "metadata": {},
   "outputs": [],
   "source": [
    "import json"
   ]
  },
  {
   "cell_type": "code",
   "execution_count": 3,
   "id": "550bfe13",
   "metadata": {},
   "outputs": [],
   "source": [
    "directory_path = '../data/raw/repos_list.json'\n",
    "\n",
    "with open(directory_path, 'r') as file:\n",
    "    repos_list = json.load(file)"
   ]
  },
  {
   "cell_type": "markdown",
   "id": "55b55733",
   "metadata": {},
   "source": [
    "### Collecting Repo Names"
   ]
  },
  {
   "cell_type": "code",
   "execution_count": 4,
   "id": "ac443856",
   "metadata": {},
   "outputs": [],
   "source": [
    "repos_name = [page['name'] for page in repos_list]"
   ]
  },
  {
   "cell_type": "markdown",
   "id": "d6ec900f",
   "metadata": {},
   "source": [
    "### Collecting Repo Languagens\n"
   ]
  },
  {
   "cell_type": "code",
   "execution_count": 5,
   "id": "6a8a03d6",
   "metadata": {},
   "outputs": [],
   "source": [
    "repos_lang = [page['language'] for page in repos_list]"
   ]
  },
  {
   "cell_type": "markdown",
   "id": "b7eeaf76",
   "metadata": {},
   "source": [
    "### Creating a DataFrame"
   ]
  },
  {
   "cell_type": "code",
   "execution_count": 6,
   "id": "603c2bbb",
   "metadata": {},
   "outputs": [],
   "source": [
    "import pandas as pd"
   ]
  }
 ],
 "metadata": {
  "kernelspec": {
   "display_name": "venv",
   "language": "python",
   "name": "python3"
  },
  "language_info": {
   "codemirror_mode": {
    "name": "ipython",
    "version": 3
   },
   "file_extension": ".py",
   "mimetype": "text/x-python",
   "name": "python",
   "nbconvert_exporter": "python",
   "pygments_lexer": "ipython3",
   "version": "3.10.12"
  }
 },
 "nbformat": 4,
 "nbformat_minor": 5
}
